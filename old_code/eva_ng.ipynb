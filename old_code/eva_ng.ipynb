{
 "cells": [
  {
   "cell_type": "markdown",
   "metadata": {},
   "source": [
    "# EVA tool\n",
    "\n",
    "## __E__valuation and __V__alidation __A__nalysis tool\n",
    "\n",
    "### Main steps:\n",
    "\n",
    "- read CSV file\n",
    "\n",
    "#### 1 - Plotting and analyse opportunity traffic\n",
    "- sort plots by track_ID\n",
    "- for each track look for the gaps and create new plots to fill them in (missed plots)\n",
    "- calculate statistics: % of missed and % of probability of detection\n",
    "- plot every track marking the real plots and the missed ones.\n",
    "- implement a picker to display plot and track information when pick over a plot\n",
    "\n",
    "#### 2 - Accuracy analysis by using a GPS points file\n",
    "- read the GPS track file\n",
    "- select/introduce the track/tracks to compare with the GPS points\n",
    "- correlate every plot with the time nearest GPS point\n",
    "- calculate the positional error for every plot\n",
    "- statistical analisys of the error\n",
    "- plot an X/Y absolute error"
   ]
  },
  {
   "cell_type": "markdown",
   "metadata": {},
   "source": [
    "import modules:"
   ]
  },
  {
   "cell_type": "code",
   "execution_count": 1,
   "metadata": {
    "collapsed": false
   },
   "outputs": [
    {
     "name": "stderr",
     "output_type": "stream",
     "text": [
      "/Users/angelvidal/anaconda3/envs/CarND-TensorFlow-L2/lib/python3.5/site-packages/matplotlib/__init__.py:1350: UserWarning:  This call to matplotlib.use() has no effect\n",
      "because the backend has already been chosen;\n",
      "matplotlib.use() must be called *before* pylab, matplotlib.pyplot,\n",
      "or matplotlib.backends is imported for the first time.\n",
      "\n",
      "  warnings.warn(_use_error_msg)\n"
     ]
    }
   ],
   "source": [
    "%matplotlib qt \n",
    "#inline\n",
    "%config InlineBackend.figure_format = 'retina'\n",
    "\n",
    "import matplotlib\n",
    "matplotlib.use('TkAgg')  \n",
    "\n",
    "import numpy as np\n",
    "import pandas as pd\n",
    "import matplotlib.pyplot as plt"
   ]
  },
  {
   "cell_type": "code",
   "execution_count": 10,
   "metadata": {
    "collapsed": false
   },
   "outputs": [
    {
     "name": "stdout",
     "output_type": "stream",
     "text": [
      "-rw-r--r--  1 angelvidal  staff  7878870 Feb 24 21:05 080001.gps.csv\r\n",
      "-rw-r--r--  1 angelvidal  staff  7878871 Feb 24 19:50 080001.gps.sorted.csv\r\n",
      "-rw-r--r--  2 angelvidal  staff    32881 Dec 29  2015 statistics.csv\r\n"
     ]
    }
   ],
   "source": [
    "ll *.csv\n"
   ]
  },
  {
   "cell_type": "code",
   "execution_count": 11,
   "metadata": {
    "collapsed": false
   },
   "outputs": [
    {
     "name": "stdout",
     "output_type": "stream",
     "text": [
      "Enter the filename: ñasldkfj\n"
     ]
    }
   ],
   "source": [
    "# this should be implemented by means of a dialog \n",
    "file = input(\"Enter the filename: \")"
   ]
  },
  {
   "cell_type": "code",
   "execution_count": 2,
   "metadata": {
    "collapsed": false
   },
   "outputs": [
    {
     "data": {
      "text/html": [
       "<div>\n",
       "<table border=\"1\" class=\"dataframe\">\n",
       "  <thead>\n",
       "    <tr style=\"text-align: right;\">\n",
       "      <th></th>\n",
       "      <th>Cat</th>\n",
       "      <th>Length</th>\n",
       "      <th>FSPEC</th>\n",
       "      <th>DI_I010_010_SAC</th>\n",
       "      <th>DI_I010_010_SIC</th>\n",
       "      <th>DI_I010_000_Message_Type</th>\n",
       "      <th>DI_I010_020_TRD_Type</th>\n",
       "      <th>DI_I010_020_TRD_DCR</th>\n",
       "      <th>DI_I010_020_TRD_CHN</th>\n",
       "      <th>DI_I010_020_TRD_GBS</th>\n",
       "      <th>...</th>\n",
       "      <th>DI_I010_550_System_Status_TTF</th>\n",
       "      <th>DI_I010_310_PreProgrammed_Message</th>\n",
       "      <th>DI_I010_550_Standard_Deviation_of_Position_sigmaX</th>\n",
       "      <th>DI_I010_550_Standard_Deviation_of_Position_sigmaY</th>\n",
       "      <th>DI_I010_550_Standard_Deviation_of_Position_covariXY</th>\n",
       "      <th>DI_I010_280_Presence</th>\n",
       "      <th>DI_I010_131_Amplitude_of_Primary_Plot</th>\n",
       "      <th>DI_I010_210_Calculated_Acceleration</th>\n",
       "      <th>SP_Special_Purpose_Field</th>\n",
       "      <th>RE_Reserved_Expansion_Field</th>\n",
       "    </tr>\n",
       "  </thead>\n",
       "  <tbody>\n",
       "    <tr>\n",
       "      <th>0</th>\n",
       "      <td>10</td>\n",
       "      <td>52</td>\n",
       "      <td>[247 241   9  48]</td>\n",
       "      <td>1</td>\n",
       "      <td>0</td>\n",
       "      <td>Target Report</td>\n",
       "      <td>PSR</td>\n",
       "      <td>0.0</td>\n",
       "      <td>2.0</td>\n",
       "      <td>0.0</td>\n",
       "      <td>...</td>\n",
       "      <td>NaN</td>\n",
       "      <td>NaN</td>\n",
       "      <td>NaN</td>\n",
       "      <td>NaN</td>\n",
       "      <td>NaN</td>\n",
       "      <td>NaN</td>\n",
       "      <td>NaN</td>\n",
       "      <td>NaN</td>\n",
       "      <td>NaN</td>\n",
       "      <td>NaN</td>\n",
       "    </tr>\n",
       "    <tr>\n",
       "      <th>1</th>\n",
       "      <td>10</td>\n",
       "      <td>20</td>\n",
       "      <td>[208]</td>\n",
       "      <td>1</td>\n",
       "      <td>0</td>\n",
       "      <td>Start of Update Cycle</td>\n",
       "      <td>NaN</td>\n",
       "      <td>NaN</td>\n",
       "      <td>NaN</td>\n",
       "      <td>NaN</td>\n",
       "      <td>...</td>\n",
       "      <td>NaN</td>\n",
       "      <td>NaN</td>\n",
       "      <td>NaN</td>\n",
       "      <td>NaN</td>\n",
       "      <td>NaN</td>\n",
       "      <td>NaN</td>\n",
       "      <td>NaN</td>\n",
       "      <td>NaN</td>\n",
       "      <td>NaN</td>\n",
       "      <td>NaN</td>\n",
       "    </tr>\n",
       "    <tr>\n",
       "      <th>2</th>\n",
       "      <td>10</td>\n",
       "      <td>52</td>\n",
       "      <td>[247 241   9  48]</td>\n",
       "      <td>1</td>\n",
       "      <td>0</td>\n",
       "      <td>Target Report</td>\n",
       "      <td>PSR</td>\n",
       "      <td>0.0</td>\n",
       "      <td>2.0</td>\n",
       "      <td>0.0</td>\n",
       "      <td>...</td>\n",
       "      <td>NaN</td>\n",
       "      <td>NaN</td>\n",
       "      <td>NaN</td>\n",
       "      <td>NaN</td>\n",
       "      <td>NaN</td>\n",
       "      <td>NaN</td>\n",
       "      <td>NaN</td>\n",
       "      <td>NaN</td>\n",
       "      <td>NaN</td>\n",
       "      <td>NaN</td>\n",
       "    </tr>\n",
       "  </tbody>\n",
       "</table>\n",
       "<p>3 rows × 50 columns</p>\n",
       "</div>"
      ],
      "text/plain": [
       "   Cat  Length              FSPEC  DI_I010_010_SAC  DI_I010_010_SIC  \\\n",
       "0   10      52  [247 241   9  48]                1                0   \n",
       "1   10      20              [208]                1                0   \n",
       "2   10      52  [247 241   9  48]                1                0   \n",
       "\n",
       "  DI_I010_000_Message_Type DI_I010_020_TRD_Type  DI_I010_020_TRD_DCR  \\\n",
       "0            Target Report                  PSR                  0.0   \n",
       "1    Start of Update Cycle                  NaN                  NaN   \n",
       "2            Target Report                  PSR                  0.0   \n",
       "\n",
       "   DI_I010_020_TRD_CHN  DI_I010_020_TRD_GBS             ...               \\\n",
       "0                  2.0                  0.0             ...                \n",
       "1                  NaN                  NaN             ...                \n",
       "2                  2.0                  0.0             ...                \n",
       "\n",
       "   DI_I010_550_System_Status_TTF  DI_I010_310_PreProgrammed_Message  \\\n",
       "0                            NaN                                NaN   \n",
       "1                            NaN                                NaN   \n",
       "2                            NaN                                NaN   \n",
       "\n",
       "   DI_I010_550_Standard_Deviation_of_Position_sigmaX  \\\n",
       "0                                                NaN   \n",
       "1                                                NaN   \n",
       "2                                                NaN   \n",
       "\n",
       "   DI_I010_550_Standard_Deviation_of_Position_sigmaY  \\\n",
       "0                                                NaN   \n",
       "1                                                NaN   \n",
       "2                                                NaN   \n",
       "\n",
       "   DI_I010_550_Standard_Deviation_of_Position_covariXY  DI_I010_280_Presence  \\\n",
       "0                                                NaN                     NaN   \n",
       "1                                                NaN                     NaN   \n",
       "2                                                NaN                     NaN   \n",
       "\n",
       "   DI_I010_131_Amplitude_of_Primary_Plot  DI_I010_210_Calculated_Acceleration  \\\n",
       "0                                    NaN                                  NaN   \n",
       "1                                    NaN                                  NaN   \n",
       "2                                    NaN                                  NaN   \n",
       "\n",
       "   SP_Special_Purpose_Field  RE_Reserved_Expansion_Field  \n",
       "0                       NaN                          NaN  \n",
       "1                       NaN                          NaN  \n",
       "2                       NaN                          NaN  \n",
       "\n",
       "[3 rows x 50 columns]"
      ]
     },
     "execution_count": 2,
     "metadata": {},
     "output_type": "execute_result"
    }
   ],
   "source": [
    "# read de csv file\n",
    "data = pd.read_csv('080001.gps.csv')\n",
    "data.head(3)"
   ]
  },
  {
   "cell_type": "code",
   "execution_count": 3,
   "metadata": {
    "collapsed": false
   },
   "outputs": [
    {
     "data": {
      "text/html": [
       "<div>\n",
       "<table border=\"1\" class=\"dataframe\">\n",
       "  <thead>\n",
       "    <tr style=\"text-align: right;\">\n",
       "      <th></th>\n",
       "      <th>Cat</th>\n",
       "      <th>DI_I010_140_Time_of_Day</th>\n",
       "      <th>ADD_ON_time_at_recorder</th>\n",
       "      <th>ADD_ON_delta(t)</th>\n",
       "      <th>DI_I010_161_Track_No</th>\n",
       "      <th>DI_I010_042_X</th>\n",
       "      <th>DI_I010_042_Y</th>\n",
       "      <th>DI_I010_040_Rho</th>\n",
       "      <th>DI_I010_040_Theta</th>\n",
       "      <th>DI_I010_041_Lat</th>\n",
       "      <th>DI_I010_041_Lon</th>\n",
       "      <th>DI_I010_020_TRD_Type</th>\n",
       "      <th>DI_I010_000_Message_Type</th>\n",
       "    </tr>\n",
       "  </thead>\n",
       "  <tbody>\n",
       "    <tr>\n",
       "      <th>0</th>\n",
       "      <td>10</td>\n",
       "      <td>28801.554688</td>\n",
       "      <td>28801.648438</td>\n",
       "      <td>NaN</td>\n",
       "      <td>2766.0</td>\n",
       "      <td>-3806.0</td>\n",
       "      <td>1533.0</td>\n",
       "      <td>4104.0</td>\n",
       "      <td>-68.422852</td>\n",
       "      <td>NaN</td>\n",
       "      <td>NaN</td>\n",
       "      <td>PSR</td>\n",
       "      <td>Target Report</td>\n",
       "    </tr>\n",
       "    <tr>\n",
       "      <th>1</th>\n",
       "      <td>10</td>\n",
       "      <td>28801.835938</td>\n",
       "      <td>28801.835938</td>\n",
       "      <td>NaN</td>\n",
       "      <td>NaN</td>\n",
       "      <td>NaN</td>\n",
       "      <td>NaN</td>\n",
       "      <td>NaN</td>\n",
       "      <td>NaN</td>\n",
       "      <td>NaN</td>\n",
       "      <td>NaN</td>\n",
       "      <td>NaN</td>\n",
       "      <td>Start of Update Cycle</td>\n",
       "    </tr>\n",
       "    <tr>\n",
       "      <th>2</th>\n",
       "      <td>10</td>\n",
       "      <td>28802.546875</td>\n",
       "      <td>28802.640625</td>\n",
       "      <td>NaN</td>\n",
       "      <td>2766.0</td>\n",
       "      <td>-3874.0</td>\n",
       "      <td>1555.0</td>\n",
       "      <td>4175.0</td>\n",
       "      <td>-68.488770</td>\n",
       "      <td>NaN</td>\n",
       "      <td>NaN</td>\n",
       "      <td>PSR</td>\n",
       "      <td>Target Report</td>\n",
       "    </tr>\n",
       "    <tr>\n",
       "      <th>3</th>\n",
       "      <td>10</td>\n",
       "      <td>28802.835938</td>\n",
       "      <td>28802.828125</td>\n",
       "      <td>NaN</td>\n",
       "      <td>NaN</td>\n",
       "      <td>NaN</td>\n",
       "      <td>NaN</td>\n",
       "      <td>NaN</td>\n",
       "      <td>NaN</td>\n",
       "      <td>NaN</td>\n",
       "      <td>NaN</td>\n",
       "      <td>NaN</td>\n",
       "      <td>Start of Update Cycle</td>\n",
       "    </tr>\n",
       "    <tr>\n",
       "      <th>4</th>\n",
       "      <td>10</td>\n",
       "      <td>28803.554688</td>\n",
       "      <td>28803.648438</td>\n",
       "      <td>NaN</td>\n",
       "      <td>2766.0</td>\n",
       "      <td>-3942.0</td>\n",
       "      <td>1576.0</td>\n",
       "      <td>4246.0</td>\n",
       "      <td>-68.565674</td>\n",
       "      <td>NaN</td>\n",
       "      <td>NaN</td>\n",
       "      <td>PSR</td>\n",
       "      <td>Target Report</td>\n",
       "    </tr>\n",
       "  </tbody>\n",
       "</table>\n",
       "</div>"
      ],
      "text/plain": [
       "   Cat  DI_I010_140_Time_of_Day  ADD_ON_time_at_recorder  ADD_ON_delta(t)  \\\n",
       "0   10             28801.554688             28801.648438              NaN   \n",
       "1   10             28801.835938             28801.835938              NaN   \n",
       "2   10             28802.546875             28802.640625              NaN   \n",
       "3   10             28802.835938             28802.828125              NaN   \n",
       "4   10             28803.554688             28803.648438              NaN   \n",
       "\n",
       "   DI_I010_161_Track_No  DI_I010_042_X  DI_I010_042_Y  DI_I010_040_Rho  \\\n",
       "0                2766.0        -3806.0         1533.0           4104.0   \n",
       "1                   NaN            NaN            NaN              NaN   \n",
       "2                2766.0        -3874.0         1555.0           4175.0   \n",
       "3                   NaN            NaN            NaN              NaN   \n",
       "4                2766.0        -3942.0         1576.0           4246.0   \n",
       "\n",
       "   DI_I010_040_Theta  DI_I010_041_Lat  DI_I010_041_Lon DI_I010_020_TRD_Type  \\\n",
       "0         -68.422852              NaN              NaN                  PSR   \n",
       "1                NaN              NaN              NaN                  NaN   \n",
       "2         -68.488770              NaN              NaN                  PSR   \n",
       "3                NaN              NaN              NaN                  NaN   \n",
       "4         -68.565674              NaN              NaN                  PSR   \n",
       "\n",
       "  DI_I010_000_Message_Type  \n",
       "0            Target Report  \n",
       "1    Start of Update Cycle  \n",
       "2            Target Report  \n",
       "3    Start of Update Cycle  \n",
       "4            Target Report  "
      ]
     },
     "execution_count": 3,
     "metadata": {},
     "output_type": "execute_result"
    }
   ],
   "source": [
    "# get just the fields of interest into a new subset\n",
    "subset = data.loc[:,['Cat', 'DI_I010_140_Time_of_Day',\n",
    "                     'ADD_ON_time_at_recorder',\n",
    "                     'ADD_ON_delta(t)',\n",
    "                     'DI_I010_161_Track_No',\n",
    "                     'DI_I010_042_X',\n",
    "                     'DI_I010_042_Y',\n",
    "                     'DI_I010_040_Rho',\n",
    "                     'DI_I010_040_Theta',\n",
    "                     'DI_I010_041_Lat',\n",
    "                     'DI_I010_041_Lon',\n",
    "                     'DI_I010_020_TRD_Type',\n",
    "                     'DI_I010_000_Message_Type']]\n",
    "# clean memory\n",
    "del data\n",
    "\n",
    "# show the head\n",
    "subset.head()"
   ]
  },
  {
   "cell_type": "code",
   "execution_count": null,
   "metadata": {
    "collapsed": false
   },
   "outputs": [],
   "source": []
  },
  {
   "cell_type": "code",
   "execution_count": 4,
   "metadata": {
    "collapsed": false,
    "scrolled": true
   },
   "outputs": [
    {
     "name": "stdout",
     "output_type": "stream",
     "text": [
      "delay minimum:  -0.0078125\n",
      "delay maximum:  1.1015625\n",
      "delay mean/average:  0.0562481391293\n",
      "delay histogram:\n"
     ]
    }
   ],
   "source": [
    "# delay analysis\n",
    "delay = subset.ADD_ON_time_at_recorder - subset.DI_I010_140_Time_of_Day\n",
    "print('delay minimum: ', np.min(delay))\n",
    "print('delay maximum: ', np.max(delay))\n",
    "print('delay mean/average: ', np.mean(delay))\n",
    "print('delay histogram:')\n",
    "plt.figure(figsize=(10,3))\n",
    "plt.hist(delay, bins=100, color='orange')\n",
    "plt.show()"
   ]
  },
  {
   "cell_type": "code",
   "execution_count": 5,
   "metadata": {
    "collapsed": false
   },
   "outputs": [
    {
     "data": {
      "text/html": [
       "<div>\n",
       "<table border=\"1\" class=\"dataframe\">\n",
       "  <thead>\n",
       "    <tr style=\"text-align: right;\">\n",
       "      <th></th>\n",
       "      <th>Cat</th>\n",
       "      <th>DI_I010_140_Time_of_Day</th>\n",
       "      <th>ADD_ON_time_at_recorder</th>\n",
       "      <th>ADD_ON_delta(t)</th>\n",
       "      <th>DI_I010_161_Track_No</th>\n",
       "      <th>DI_I010_042_X</th>\n",
       "      <th>DI_I010_042_Y</th>\n",
       "      <th>DI_I010_040_Rho</th>\n",
       "      <th>DI_I010_040_Theta</th>\n",
       "      <th>DI_I010_041_Lat</th>\n",
       "      <th>DI_I010_041_Lon</th>\n",
       "      <th>DI_I010_020_TRD_Type</th>\n",
       "      <th>DI_I010_000_Message_Type</th>\n",
       "    </tr>\n",
       "  </thead>\n",
       "  <tbody>\n",
       "    <tr>\n",
       "      <th>0</th>\n",
       "      <td>10</td>\n",
       "      <td>28801.554688</td>\n",
       "      <td>28801.648438</td>\n",
       "      <td>NaN</td>\n",
       "      <td>2766.0</td>\n",
       "      <td>-3806.0</td>\n",
       "      <td>1533.0</td>\n",
       "      <td>4104.0</td>\n",
       "      <td>-68.422852</td>\n",
       "      <td>NaN</td>\n",
       "      <td>NaN</td>\n",
       "      <td>PSR</td>\n",
       "      <td>Target Report</td>\n",
       "    </tr>\n",
       "    <tr>\n",
       "      <th>1</th>\n",
       "      <td>10</td>\n",
       "      <td>28801.835938</td>\n",
       "      <td>28801.835938</td>\n",
       "      <td>NaN</td>\n",
       "      <td>NaN</td>\n",
       "      <td>NaN</td>\n",
       "      <td>NaN</td>\n",
       "      <td>NaN</td>\n",
       "      <td>NaN</td>\n",
       "      <td>NaN</td>\n",
       "      <td>NaN</td>\n",
       "      <td>NaN</td>\n",
       "      <td>Start of Update Cycle</td>\n",
       "    </tr>\n",
       "    <tr>\n",
       "      <th>2</th>\n",
       "      <td>10</td>\n",
       "      <td>28802.546875</td>\n",
       "      <td>28802.640625</td>\n",
       "      <td>NaN</td>\n",
       "      <td>2766.0</td>\n",
       "      <td>-3874.0</td>\n",
       "      <td>1555.0</td>\n",
       "      <td>4175.0</td>\n",
       "      <td>-68.488770</td>\n",
       "      <td>NaN</td>\n",
       "      <td>NaN</td>\n",
       "      <td>PSR</td>\n",
       "      <td>Target Report</td>\n",
       "    </tr>\n",
       "    <tr>\n",
       "      <th>3</th>\n",
       "      <td>10</td>\n",
       "      <td>28802.835938</td>\n",
       "      <td>28802.828125</td>\n",
       "      <td>NaN</td>\n",
       "      <td>NaN</td>\n",
       "      <td>NaN</td>\n",
       "      <td>NaN</td>\n",
       "      <td>NaN</td>\n",
       "      <td>NaN</td>\n",
       "      <td>NaN</td>\n",
       "      <td>NaN</td>\n",
       "      <td>NaN</td>\n",
       "      <td>Start of Update Cycle</td>\n",
       "    </tr>\n",
       "    <tr>\n",
       "      <th>4</th>\n",
       "      <td>10</td>\n",
       "      <td>28803.554688</td>\n",
       "      <td>28803.648438</td>\n",
       "      <td>NaN</td>\n",
       "      <td>2766.0</td>\n",
       "      <td>-3942.0</td>\n",
       "      <td>1576.0</td>\n",
       "      <td>4246.0</td>\n",
       "      <td>-68.565674</td>\n",
       "      <td>NaN</td>\n",
       "      <td>NaN</td>\n",
       "      <td>PSR</td>\n",
       "      <td>Target Report</td>\n",
       "    </tr>\n",
       "  </tbody>\n",
       "</table>\n",
       "</div>"
      ],
      "text/plain": [
       "   Cat  DI_I010_140_Time_of_Day  ADD_ON_time_at_recorder  ADD_ON_delta(t)  \\\n",
       "0   10             28801.554688             28801.648438              NaN   \n",
       "1   10             28801.835938             28801.835938              NaN   \n",
       "2   10             28802.546875             28802.640625              NaN   \n",
       "3   10             28802.835938             28802.828125              NaN   \n",
       "4   10             28803.554688             28803.648438              NaN   \n",
       "\n",
       "   DI_I010_161_Track_No  DI_I010_042_X  DI_I010_042_Y  DI_I010_040_Rho  \\\n",
       "0                2766.0        -3806.0         1533.0           4104.0   \n",
       "1                   NaN            NaN            NaN              NaN   \n",
       "2                2766.0        -3874.0         1555.0           4175.0   \n",
       "3                   NaN            NaN            NaN              NaN   \n",
       "4                2766.0        -3942.0         1576.0           4246.0   \n",
       "\n",
       "   DI_I010_040_Theta  DI_I010_041_Lat  DI_I010_041_Lon DI_I010_020_TRD_Type  \\\n",
       "0         -68.422852              NaN              NaN                  PSR   \n",
       "1                NaN              NaN              NaN                  NaN   \n",
       "2         -68.488770              NaN              NaN                  PSR   \n",
       "3                NaN              NaN              NaN                  NaN   \n",
       "4         -68.565674              NaN              NaN                  PSR   \n",
       "\n",
       "  DI_I010_000_Message_Type  \n",
       "0            Target Report  \n",
       "1    Start of Update Cycle  \n",
       "2            Target Report  \n",
       "3    Start of Update Cycle  \n",
       "4            Target Report  "
      ]
     },
     "execution_count": 5,
     "metadata": {},
     "output_type": "execute_result"
    }
   ],
   "source": [
    "# sort by track ID\n",
    "subset = subset.sort_values(by='DI_I010_140_Time_of_Day')\n",
    "subset.head()"
   ]
  },
  {
   "cell_type": "code",
   "execution_count": 6,
   "metadata": {
    "collapsed": false
   },
   "outputs": [],
   "source": [
    "# counting plots in every track and stores in a dict {track_id: {counts : count, X: [], Y: [],... }}\n",
    "tracks = {}\n",
    "for plot, x, y, t in zip(subset.DI_I010_161_Track_No,\n",
    "                         subset.DI_I010_042_X,\n",
    "                         subset.DI_I010_042_Y,\n",
    "                         subset.DI_I010_140_Time_of_Day,):\n",
    "    if not np.isnan(plot):\n",
    "        if plot in tracks:\n",
    "            tracks[plot]['count'] += 1\n",
    "            tracks[plot]['X'].append(x)\n",
    "            tracks[plot]['Y'].append(y)\n",
    "            tracks[plot]['T'].append(t)\n",
    "            \n",
    "        else:\n",
    "            tracks[plot] = {}\n",
    "            tracks[plot]['count'] = 1\n",
    "            tracks[plot]['X'] = []\n",
    "            tracks[plot]['Y'] = []\n",
    "            tracks[plot]['T'] = []\n",
    "            tracks[plot]['X'].append(x)\n",
    "            tracks[plot]['Y'].append(y)            \n",
    "            tracks[plot]['T'].append(t)            \n"
   ]
  },
  {
   "cell_type": "code",
   "execution_count": null,
   "metadata": {
    "collapsed": false
   },
   "outputs": [],
   "source": []
  },
  {
   "cell_type": "code",
   "execution_count": 7,
   "metadata": {
    "collapsed": false,
    "scrolled": false
   },
   "outputs": [],
   "source": [
    "plt.figure(figsize=(10, 5))\n",
    "for track in tracks.keys():\n",
    "    plt.plot(tracks[track]['X'], tracks[track]['Y'])\n",
    "    \n",
    "\n",
    "plt.grid(True)\n",
    "plt.show()\n"
   ]
  },
  {
   "cell_type": "code",
   "execution_count": null,
   "metadata": {
    "collapsed": false
   },
   "outputs": [],
   "source": []
  },
  {
   "cell_type": "code",
   "execution_count": null,
   "metadata": {
    "collapsed": true
   },
   "outputs": [],
   "source": []
  },
  {
   "cell_type": "code",
   "execution_count": null,
   "metadata": {
    "collapsed": true
   },
   "outputs": [],
   "source": []
  },
  {
   "cell_type": "code",
   "execution_count": null,
   "metadata": {
    "collapsed": true
   },
   "outputs": [],
   "source": []
  },
  {
   "cell_type": "code",
   "execution_count": null,
   "metadata": {
    "collapsed": true
   },
   "outputs": [],
   "source": []
  }
 ],
 "metadata": {
  "anaconda-cloud": {},
  "kernelspec": {
   "display_name": "Python [conda env:CarND-TensorFlow-L2]",
   "language": "python",
   "name": "conda-env-CarND-TensorFlow-L2-py"
  },
  "language_info": {
   "codemirror_mode": {
    "name": "ipython",
    "version": 3
   },
   "file_extension": ".py",
   "mimetype": "text/x-python",
   "name": "python",
   "nbconvert_exporter": "python",
   "pygments_lexer": "ipython3",
   "version": "3.5.2"
  }
 },
 "nbformat": 4,
 "nbformat_minor": 1
}
